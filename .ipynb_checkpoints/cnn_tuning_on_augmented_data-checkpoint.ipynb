{
 "cells": [
  {
   "cell_type": "markdown",
   "metadata": {},
   "source": [
    "# CNN Model Tuning using Final Augmented Data"
   ]
  },
  {
   "cell_type": "markdown",
   "metadata": {},
   "source": [
    "## Part 1: Setup"
   ]
  },
  {
   "cell_type": "code",
   "execution_count": 29,
   "metadata": {
    "ExecuteTime": {
     "end_time": "2020-11-22T05:22:08.585201Z",
     "start_time": "2020-11-22T05:22:07.382099Z"
    }
   },
   "outputs": [],
   "source": [
    "# run helper functions script to load packages, data and functions\n",
    "%run -i helper_functions.py\n",
    "import cv2"
   ]
  },
  {
   "cell_type": "markdown",
   "metadata": {},
   "source": [
    "## Part 3: Create training data scenarios based on options to handle missing values"
   ]
  },
  {
   "cell_type": "code",
   "execution_count": 3,
   "metadata": {
    "ExecuteTime": {
     "end_time": "2020-11-22T05:09:37.821835Z",
     "start_time": "2020-11-22T05:09:37.812711Z"
    }
   },
   "outputs": [
    {
     "name": "stdout",
     "output_type": "stream",
     "text": [
      "Shape of training dataset with no missing values: (2140, 31)\n"
     ]
    }
   ],
   "source": [
    "# create 'partial' (missing values) dataset from train_data\n",
    "\n",
    "train_data_partial = train_data.dropna()\n",
    "print(\"Shape of training dataset with no missing values: {}\".format(train_data_partial.shape))"
   ]
  },
  {
   "cell_type": "code",
   "execution_count": 4,
   "metadata": {
    "ExecuteTime": {
     "end_time": "2020-11-22T05:09:52.913187Z",
     "start_time": "2020-11-22T05:09:37.824324Z"
    }
   },
   "outputs": [
    {
     "name": "stdout",
     "output_type": "stream",
     "text": [
      "Full training data with missing values:\n",
      "Training features shape: (7049, 96, 96, 1)\n",
      "Training labels shape: (7049, 30)\n",
      "Test features shape: (1783, 96, 96, 1)\n",
      "CPU times: user 13.5 s, sys: 1.6 s, total: 15.1 s\n",
      "Wall time: 15.1 s\n"
     ]
    }
   ],
   "source": [
    "%%time\n",
    "\n",
    "# separate data into features and labels using helper functions\n",
    "\n",
    "X_full = get_features(train_data, dim=2)\n",
    "y_full = get_labels(train_data)\n",
    "X_test = get_features(test_data, dim=2)\n",
    "\n",
    "print(\"Full training data with missing values:\")\n",
    "print(\"Training features shape: {}\".format(X_full.shape))\n",
    "print(\"Training labels shape: {}\".format(y_full.shape))\n",
    "print(\"Test features shape: {}\".format(X_test.shape))"
   ]
  },
  {
   "cell_type": "code",
   "execution_count": 5,
   "metadata": {
    "ExecuteTime": {
     "end_time": "2020-11-22T05:09:55.344992Z",
     "start_time": "2020-11-22T05:09:52.914363Z"
    }
   },
   "outputs": [
    {
     "name": "stdout",
     "output_type": "stream",
     "text": [
      "Partial training data with NO missing values:\n",
      "Training features shape: (2140, 96, 96, 1)\n",
      "Training labels shape: (2140, 30)\n",
      "CPU times: user 2.41 s, sys: 1.01 ms, total: 2.41 s\n",
      "Wall time: 2.43 s\n"
     ]
    }
   ],
   "source": [
    "%%time\n",
    "\n",
    "# drop rows with missing values\n",
    "# get features function didn't work after rows were dropped\n",
    "\n",
    "def load_images(image_data):\n",
    "    images = []\n",
    "    for idx, df in image_data.iterrows():\n",
    "        image = np.array(df['Image'].split(' '), dtype=int)\n",
    "        image = np.reshape(image, (96,96,1))\n",
    "        images.append(image)\n",
    "    images = np.array(images)\n",
    "    return images\n",
    "\n",
    "X_partial = load_images(train_data_partial)\n",
    "\n",
    "y_partial = train_data_partial.drop(\"Image\", axis = 1).to_numpy()\n",
    "\n",
    "print(\"Partial training data with NO missing values:\")\n",
    "print(\"Training features shape: {}\".format(X_partial.shape))\n",
    "print(\"Training labels shape: {}\".format(y_partial.shape))"
   ]
  },
  {
   "cell_type": "code",
   "execution_count": 6,
   "metadata": {
    "ExecuteTime": {
     "end_time": "2020-11-22T05:09:55.572364Z",
     "start_time": "2020-11-22T05:09:55.345927Z"
    }
   },
   "outputs": [],
   "source": [
    "# image pixels not yet normalized.  Need to divide by 255.\n",
    "# consider adding as a helper function\n",
    "\n",
    "def convert_images(image_data):\n",
    "    temp = np.array(image_data)/255\n",
    "    return temp\n",
    "\n",
    "X_full_converted = convert_images(X_full)\n",
    "X_partial_converted = convert_images(X_partial)\n",
    "X_test_converted = convert_images(X_test)"
   ]
  },
  {
   "cell_type": "code",
   "execution_count": 27,
   "metadata": {
    "ExecuteTime": {
     "end_time": "2020-11-22T05:18:13.049788Z",
     "start_time": "2020-11-22T05:18:12.960800Z"
    }
   },
   "outputs": [
    {
     "ename": "NameError",
     "evalue": "name 'plot_img' is not defined",
     "output_type": "error",
     "traceback": [
      "\u001b[0;31m---------------------------------------------------------------------------\u001b[0m",
      "\u001b[0;31mNameError\u001b[0m                                 Traceback (most recent call last)",
      "\u001b[0;32m/mnt/647D0FF0740E5C2E/Documents/School_Courses/UC_Berkeley/Introduction_to_Machine_Learning_w207/Final_project/final_project_w207/helper_functions.py\u001b[0m in \u001b[0;36m<module>\u001b[0;34m\u001b[0m\n\u001b[1;32m      1\u001b[0m \u001b[0mfig\u001b[0m\u001b[0;34m,\u001b[0m \u001b[0maxis\u001b[0m \u001b[0;34m=\u001b[0m \u001b[0mplt\u001b[0m\u001b[0;34m.\u001b[0m\u001b[0msubplots\u001b[0m\u001b[0;34m(\u001b[0m\u001b[0;34m)\u001b[0m\u001b[0;34m\u001b[0m\u001b[0;34m\u001b[0m\u001b[0m\n\u001b[0;32m----> 2\u001b[0;31m \u001b[0mplot_img\u001b[0m\u001b[0;34m(\u001b[0m\u001b[0mX_full_converted\u001b[0m\u001b[0;34m[\u001b[0m\u001b[0;36m210\u001b[0m\u001b[0;34m]\u001b[0m\u001b[0;34m,\u001b[0m \u001b[0my_full\u001b[0m\u001b[0;34m[\u001b[0m\u001b[0;36m210\u001b[0m\u001b[0;34m]\u001b[0m\u001b[0;34m,\u001b[0m \u001b[0maxis\u001b[0m\u001b[0;34m)\u001b[0m\u001b[0;34m\u001b[0m\u001b[0;34m\u001b[0m\u001b[0m\n\u001b[0m",
      "\u001b[0;31mNameError\u001b[0m: name 'plot_img' is not defined"
     ]
    },
    {
     "data": {
      "image/png": "[encoded data removed]",
      "text/plain": [
       "<Figure size 432x288 with 1 Axes>"
      ]
     },
     "metadata": {
      "needs_background": "light"
     },
     "output_type": "display_data"
    }
   ],
   "source": [
    "fig, axis = plt.subplots()\n",
    "plot_img(X_full_converted[210], y_full[210], axis)"
   ]
  },
  {
   "cell_type": "code",
   "execution_count": 9,
   "metadata": {
    "ExecuteTime": {
     "end_time": "2020-11-22T05:11:01.777457Z",
     "start_time": "2020-11-22T05:11:01.767105Z"
    }
   },
   "outputs": [],
   "source": [
    "# create function to flip images horizontally\n",
    "\n",
    "def flip_horizontal(features, labels):\n",
    "    flipped_labels = []\n",
    "    flipped_features = np.flip(features, axis=2)\n",
    "    for index, value in enumerate(labels):\n",
    "        flipped_labels.append([96.-coor if index%2==0 else coor for index, coor in enumerate(value)])\n",
    "    return flipped_features, np.asarray(flipped_labels)"
   ]
  },
  {
   "cell_type": "code",
   "execution_count": 10,
   "metadata": {
    "ExecuteTime": {
     "end_time": "2020-11-22T05:11:01.887135Z",
     "start_time": "2020-11-22T05:11:01.782302Z"
    }
   },
   "outputs": [
    {
     "name": "stdout",
     "output_type": "stream",
     "text": [
      "(7049, 96, 96, 1)\n",
      "(7049, 30)\n",
      "CPU times: user 82.3 ms, sys: 3.8 ms, total: 86.1 ms\n",
      "Wall time: 98.7 ms\n"
     ]
    }
   ],
   "source": [
    "%%time\n",
    "test_feat, test_lab = flip_horizontal(X_full_converted, y_full)\n",
    "print(test_feat.shape)\n",
    "print(test_lab.shape)"
   ]
  },
  {
   "cell_type": "code",
   "execution_count": 11,
   "metadata": {
    "ExecuteTime": {
     "end_time": "2020-11-22T05:11:01.960960Z",
     "start_time": "2020-11-22T05:11:01.888257Z"
    }
   },
   "outputs": [
    {
     "ename": "NameError",
     "evalue": "name 'plot_img' is not defined",
     "output_type": "error",
     "traceback": [
      "\u001b[0;31m---------------------------------------------------------------------------\u001b[0m",
      "\u001b[0;31mNameError\u001b[0m                                 Traceback (most recent call last)",
      "\u001b[0;32m/mnt/647D0FF0740E5C2E/Documents/School_Courses/UC_Berkeley/Introduction_to_Machine_Learning_w207/Final_project/final_project_w207/helper_functions.py\u001b[0m in \u001b[0;36m<module>\u001b[0;34m\u001b[0m\n\u001b[1;32m      1\u001b[0m \u001b[0;31m# show example\u001b[0m\u001b[0;34m\u001b[0m\u001b[0;34m\u001b[0m\u001b[0;34m\u001b[0m\u001b[0m\n\u001b[1;32m      2\u001b[0m \u001b[0mfig\u001b[0m\u001b[0;34m,\u001b[0m \u001b[0maxis\u001b[0m \u001b[0;34m=\u001b[0m \u001b[0mplt\u001b[0m\u001b[0;34m.\u001b[0m\u001b[0msubplots\u001b[0m\u001b[0;34m(\u001b[0m\u001b[0;34m)\u001b[0m\u001b[0;34m\u001b[0m\u001b[0;34m\u001b[0m\u001b[0m\n\u001b[0;32m----> 3\u001b[0;31m \u001b[0mplot_img\u001b[0m\u001b[0;34m(\u001b[0m\u001b[0mtest_feat\u001b[0m\u001b[0;34m[\u001b[0m\u001b[0;36m210\u001b[0m\u001b[0;34m]\u001b[0m\u001b[0;34m,\u001b[0m \u001b[0mtest_lab\u001b[0m\u001b[0;34m[\u001b[0m\u001b[0;36m210\u001b[0m\u001b[0;34m]\u001b[0m\u001b[0;34m,\u001b[0m \u001b[0maxis\u001b[0m\u001b[0;34m)\u001b[0m\u001b[0;34m\u001b[0m\u001b[0;34m\u001b[0m\u001b[0m\n\u001b[0m",
      "\u001b[0;31mNameError\u001b[0m: name 'plot_img' is not defined"
     ]
    },
    {
     "data": {
      "image/png": "[encoded data removed]",
      "text/plain": [
       "<Figure size 432x288 with 1 Axes>"
      ]
     },
     "metadata": {
      "needs_background": "light"
     },
     "output_type": "display_data"
    }
   ],
   "source": [
    "# show example\n",
    "fig, axis = plt.subplots()\n",
    "plot_img(test_feat[210], test_lab[210], axis)"
   ]
  },
  {
   "cell_type": "code",
   "execution_count": 12,
   "metadata": {
    "ExecuteTime": {
     "end_time": "2020-11-22T05:11:14.835919Z",
     "start_time": "2020-11-22T05:11:14.827218Z"
    }
   },
   "outputs": [
    {
     "name": "stdout",
     "output_type": "stream",
     "text": [
      "<class 'numpy.ndarray'> (7049, 96, 96, 1)\n",
      "<class 'numpy.ndarray'> (2140, 96, 96, 1)\n",
      "<class 'numpy.ndarray'> (7049, 30)\n",
      "<class 'numpy.ndarray'> (2140, 30)\n"
     ]
    }
   ],
   "source": [
    "print(type(X_full_converted), X_full_converted.shape)\n",
    "print(type(X_partial_converted), X_partial_converted.shape)\n",
    "print(type(y_full), y_full.shape)\n",
    "print(type(y_partial), y_partial.shape)"
   ]
  },
  {
   "cell_type": "code",
   "execution_count": 13,
   "metadata": {
    "ExecuteTime": {
     "end_time": "2020-11-22T05:11:14.867551Z",
     "start_time": "2020-11-22T05:11:14.838058Z"
    }
   },
   "outputs": [
    {
     "name": "stdout",
     "output_type": "stream",
     "text": [
      "(2140, 96, 96, 1)\n",
      "(2140, 30)\n"
     ]
    }
   ],
   "source": [
    "test_feat2, test_lab2 = flip_horizontal(X_partial_converted, y_partial)\n",
    "print(test_feat2.shape)\n",
    "print(test_lab2.shape)"
   ]
  },
  {
   "cell_type": "code",
   "execution_count": 14,
   "metadata": {
    "ExecuteTime": {
     "end_time": "2020-11-22T05:11:14.956970Z",
     "start_time": "2020-11-22T05:11:14.869687Z"
    }
   },
   "outputs": [
    {
     "ename": "NameError",
     "evalue": "name 'plot_img' is not defined",
     "output_type": "error",
     "traceback": [
      "\u001b[0;31m---------------------------------------------------------------------------\u001b[0m",
      "\u001b[0;31mNameError\u001b[0m                                 Traceback (most recent call last)",
      "\u001b[0;32m/mnt/647D0FF0740E5C2E/Documents/School_Courses/UC_Berkeley/Introduction_to_Machine_Learning_w207/Final_project/final_project_w207/helper_functions.py\u001b[0m in \u001b[0;36m<module>\u001b[0;34m\u001b[0m\n\u001b[1;32m      1\u001b[0m \u001b[0;31m# show example\u001b[0m\u001b[0;34m\u001b[0m\u001b[0;34m\u001b[0m\u001b[0;34m\u001b[0m\u001b[0m\n\u001b[1;32m      2\u001b[0m \u001b[0mfig\u001b[0m\u001b[0;34m,\u001b[0m \u001b[0maxis\u001b[0m \u001b[0;34m=\u001b[0m \u001b[0mplt\u001b[0m\u001b[0;34m.\u001b[0m\u001b[0msubplots\u001b[0m\u001b[0;34m(\u001b[0m\u001b[0;34m)\u001b[0m\u001b[0;34m\u001b[0m\u001b[0;34m\u001b[0m\u001b[0m\n\u001b[0;32m----> 3\u001b[0;31m \u001b[0mplot_img\u001b[0m\u001b[0;34m(\u001b[0m\u001b[0mtest_feat2\u001b[0m\u001b[0;34m[\u001b[0m\u001b[0;36m210\u001b[0m\u001b[0;34m]\u001b[0m\u001b[0;34m,\u001b[0m \u001b[0mtest_lab2\u001b[0m\u001b[0;34m[\u001b[0m\u001b[0;36m210\u001b[0m\u001b[0;34m]\u001b[0m\u001b[0;34m,\u001b[0m \u001b[0maxis\u001b[0m\u001b[0;34m)\u001b[0m\u001b[0;34m\u001b[0m\u001b[0;34m\u001b[0m\u001b[0m\n\u001b[0m",
      "\u001b[0;31mNameError\u001b[0m: name 'plot_img' is not defined"
     ]
    },
    {
     "data": {
      "image/png": "[encoded data removed]",
      "text/plain": [
       "<Figure size 432x288 with 1 Axes>"
      ]
     },
     "metadata": {
      "needs_background": "light"
     },
     "output_type": "display_data"
    }
   ],
   "source": [
    "# show example\n",
    "fig, axis = plt.subplots()\n",
    "plot_img(test_feat2[210], test_lab2[210], axis)"
   ]
  },
  {
   "cell_type": "code",
   "execution_count": 31,
   "metadata": {
    "ExecuteTime": {
     "end_time": "2020-11-22T05:23:54.795419Z",
     "start_time": "2020-11-22T05:23:54.787369Z"
    }
   },
   "outputs": [],
   "source": [
    "# create function to rotate images\n",
    "# https://in.mathworks.com/matlabcentral/answers/93554-how-can-i-rotate-a-set-of-points-in-a-plane-by-a-certain-angle-about-an-arbitrary-point\n",
    "\n",
    "# arbitary list of angles to use to rotate the images\n",
    "angle_list = [5, 7.5, 10, 12.5, 15] \n",
    "\n",
    "def perform_rotation(features, labels):\n",
    "    rotated_labels = []\n",
    "    rotated_features = []\n",
    "    for item in angle_list:    \n",
    "        for angle in [item,-item]:\n",
    "            M = cv2.getRotationMatrix2D((48,48), angle, 1.0)\n",
    "            angle_radians = -angle*np.pi/180. \n",
    "            \n",
    "            # features\n",
    "            for feat in features:\n",
    "                rotated_feat = cv2.warpAffine(feat, M, (96,96), flags=cv2.INTER_CUBIC)\n",
    "                rotated_features.append(rotated_feat)\n",
    "            \n",
    "            # labels\n",
    "            for lab in labels:\n",
    "                rotated_lab = lab - 48.\n",
    "                for idx in range(0,len(rotated_lab),2):\n",
    "                    rotated_lab[idx] = rotated_lab[idx]*np.cos(angle_radians)-rotated_lab[idx+1]*np.sin(angle_radians)\n",
    "                    rotated_lab[idx+1] = rotated_lab[idx]*np.sin(angle_radians)+rotated_lab[idx+1]*np.cos(angle_radians)\n",
    "                rotated_lab += 48.   # Add the earlier subtracted value\n",
    "                rotated_labels.append(rotated_lab)\n",
    "            \n",
    "    return np.reshape(rotated_features,(-1,96,96,1)), np.asarray(rotated_labels)"
   ]
  },
  {
   "cell_type": "code",
   "execution_count": 32,
   "metadata": {
    "ExecuteTime": {
     "end_time": "2020-11-22T05:24:23.418317Z",
     "start_time": "2020-11-22T05:24:08.584232Z"
    }
   },
   "outputs": [
    {
     "name": "stdout",
     "output_type": "stream",
     "text": [
      "(70490, 96, 96, 1)\n",
      "(70490, 30)\n",
      "CPU times: user 13.3 s, sys: 1.29 s, total: 14.6 s\n",
      "Wall time: 14.8 s\n"
     ]
    }
   ],
   "source": [
    "%%time\n",
    "test_feat, test_lab = perform_rotation(X_full_converted, y_full)\n",
    "print(test_feat.shape)\n",
    "print(test_lab.shape)"
   ]
  },
  {
   "cell_type": "code",
   "execution_count": 17,
   "metadata": {
    "ExecuteTime": {
     "end_time": "2020-11-22T05:11:27.306399Z",
     "start_time": "2020-11-22T05:11:27.215560Z"
    }
   },
   "outputs": [
    {
     "ename": "NameError",
     "evalue": "name 'plot_img' is not defined",
     "output_type": "error",
     "traceback": [
      "\u001b[0;31m---------------------------------------------------------------------------\u001b[0m",
      "\u001b[0;31mNameError\u001b[0m                                 Traceback (most recent call last)",
      "\u001b[0;32m/mnt/647D0FF0740E5C2E/Documents/School_Courses/UC_Berkeley/Introduction_to_Machine_Learning_w207/Final_project/final_project_w207/helper_functions.py\u001b[0m in \u001b[0;36m<module>\u001b[0;34m\u001b[0m\n\u001b[1;32m      1\u001b[0m \u001b[0;31m# show example\u001b[0m\u001b[0;34m\u001b[0m\u001b[0;34m\u001b[0m\u001b[0;34m\u001b[0m\u001b[0m\n\u001b[1;32m      2\u001b[0m \u001b[0mfig\u001b[0m\u001b[0;34m,\u001b[0m \u001b[0maxis\u001b[0m \u001b[0;34m=\u001b[0m \u001b[0mplt\u001b[0m\u001b[0;34m.\u001b[0m\u001b[0msubplots\u001b[0m\u001b[0;34m(\u001b[0m\u001b[0;34m)\u001b[0m\u001b[0;34m\u001b[0m\u001b[0;34m\u001b[0m\u001b[0m\n\u001b[0;32m----> 3\u001b[0;31m \u001b[0mplot_img\u001b[0m\u001b[0;34m(\u001b[0m\u001b[0mtest_feat\u001b[0m\u001b[0;34m[\u001b[0m\u001b[0;36m210\u001b[0m\u001b[0;34m]\u001b[0m\u001b[0;34m,\u001b[0m \u001b[0mtest_lab\u001b[0m\u001b[0;34m[\u001b[0m\u001b[0;36m210\u001b[0m\u001b[0;34m]\u001b[0m\u001b[0;34m,\u001b[0m \u001b[0maxis\u001b[0m\u001b[0;34m)\u001b[0m\u001b[0;34m\u001b[0m\u001b[0;34m\u001b[0m\u001b[0m\n\u001b[0m",
      "\u001b[0;31mNameError\u001b[0m: name 'plot_img' is not defined"
     ]
    },
    {
     "data": {
      "image/png": "[encoded data removed]",
      "text/plain": [
       "<Figure size 432x288 with 1 Axes>"
      ]
     },
     "metadata": {
      "needs_background": "light"
     },
     "output_type": "display_data"
    }
   ],
   "source": [
    "# show example\n",
    "fig, axis = plt.subplots()\n",
    "plot_img(test_feat[210], test_lab[210], axis)"
   ]
  },
  {
   "cell_type": "code",
   "execution_count": 18,
   "metadata": {
    "ExecuteTime": {
     "end_time": "2020-11-22T05:14:03.000256Z",
     "start_time": "2020-11-22T05:14:02.995902Z"
    }
   },
   "outputs": [],
   "source": [
    "# create function to update image lighting\n",
    "\n",
    "# arbitrary list of lighting factors to use to brighten/dim the images\n",
    "lighting_factor_list = [0.5, 0.75, 1.25, 1.5]\n",
    "\n",
    "def update_lighting(features, labels):\n",
    "    updated_features = []\n",
    "    updated_labels = []\n",
    "    for item in lighting_factor_list:\n",
    "        new_features = np.clip(features*item, 0.0, 1.0)\n",
    "        updated_features.extend(new_features)\n",
    "        updated_labels.extend(labels)\n",
    "    return np.asarray(updated_features), np.asarray(updated_labels)"
   ]
  },
  {
   "cell_type": "code",
   "execution_count": 19,
   "metadata": {
    "ExecuteTime": {
     "end_time": "2020-11-22T05:14:04.046191Z",
     "start_time": "2020-11-22T05:14:03.001502Z"
    }
   },
   "outputs": [
    {
     "name": "stdout",
     "output_type": "stream",
     "text": [
      "(28196, 96, 96, 1)\n",
      "(28196, 30)\n",
      "CPU times: user 563 ms, sys: 393 ms, total: 956 ms\n",
      "Wall time: 1.03 s\n"
     ]
    }
   ],
   "source": [
    "%%time\n",
    "test_feat, test_lab = update_lighting(X_full_converted, y_full)\n",
    "print(test_feat.shape)\n",
    "print(test_lab.shape)"
   ]
  },
  {
   "cell_type": "code",
   "execution_count": 20,
   "metadata": {
    "ExecuteTime": {
     "end_time": "2020-11-22T05:14:04.051600Z",
     "start_time": "2020-11-22T05:14:04.047486Z"
    }
   },
   "outputs": [],
   "source": [
    "# create function to move the center of the image up, down, left and right\n",
    "\n",
    "# arbitrary list of pixel values to use to move center of image\n",
    "pixel_moves = [4, 8, 16, 32]\n",
    "\n",
    "def move_center(features, labels):\n",
    "    shifted_features = []\n",
    "    shifted_labels = []\n",
    "    for item in pixel_moves:\n",
    "        for (xval,yval) in [(item,item),(-item,item),(item,-item),(-item,-item)]:\n",
    "            M = np.float32([[1,0,xval],[0,1,yval]])\n",
    "            for feat, lab in zip(features, labels):\n",
    "                shifted_feature = cv2.warpAffine(feat, M, (96,96), flags=cv2.INTER_CUBIC)\n",
    "                shifted_label = np.array([(point+xval) if idx%2==0 else (point+yval) for idx, point in enumerate(lab)])\n",
    "                if np.all(0.0<shifted_label) and np.all(shifted_label<96.0):\n",
    "                    shifted_features.append(shifted_feature.reshape(96,96,1))\n",
    "                    shifted_labels.append(shifted_label)\n",
    "    shifted_labels = np.clip(shifted_labels,0.0,96.0)\n",
    "    return np.asarray(shifted_features), shifted_labels"
   ]
  },
  {
   "cell_type": "code",
   "execution_count": 33,
   "metadata": {
    "ExecuteTime": {
     "end_time": "2020-11-22T05:24:51.856156Z",
     "start_time": "2020-11-22T05:24:38.050822Z"
    }
   },
   "outputs": [
    {
     "name": "stdout",
     "output_type": "stream",
     "text": [
      "(19278, 96, 96, 1)\n",
      "(19278, 30)\n",
      "CPU times: user 13.8 s, sys: 12.3 ms, total: 13.8 s\n",
      "Wall time: 13.8 s\n"
     ]
    }
   ],
   "source": [
    "%%time\n",
    "test_feat, test_lab = move_center(X_full_converted, y_full)\n",
    "print(test_feat.shape)\n",
    "print(test_lab.shape)"
   ]
  },
  {
   "cell_type": "code",
   "execution_count": 22,
   "metadata": {
    "ExecuteTime": {
     "end_time": "2020-11-22T05:14:04.072445Z",
     "start_time": "2020-11-22T05:14:04.070204Z"
    }
   },
   "outputs": [],
   "source": [
    "# create function to add noise to images\n",
    "\n",
    "# arbitrary noise factor\n",
    "noise_factor = 0.02\n",
    "\n",
    "def add_noise(features, labels):\n",
    "    noise_features = []\n",
    "    for feat in features:\n",
    "        noise_feat = cv2.add(feat, noise_factor*np.random.randn(96,96,1))\n",
    "        noise_features.append(noise_feat.reshape(96,96,1))\n",
    "    return np.asarray(noise_features), labels"
   ]
  },
  {
   "cell_type": "code",
   "execution_count": 34,
   "metadata": {
    "ExecuteTime": {
     "end_time": "2020-11-22T05:25:01.025315Z",
     "start_time": "2020-11-22T05:24:59.376555Z"
    }
   },
   "outputs": [
    {
     "name": "stdout",
     "output_type": "stream",
     "text": [
      "(7049, 96, 96, 1)\n",
      "(7049, 30)\n",
      "CPU times: user 1.59 s, sys: 31.9 ms, total: 1.62 s\n",
      "Wall time: 1.64 s\n"
     ]
    }
   ],
   "source": [
    "%%time\n",
    "test_feat, test_lab = add_noise(X_full_converted, y_full)\n",
    "print(test_feat.shape)\n",
    "print(test_lab.shape)"
   ]
  },
  {
   "cell_type": "code",
   "execution_count": 35,
   "metadata": {
    "ExecuteTime": {
     "end_time": "2020-11-22T05:25:19.183861Z",
     "start_time": "2020-11-22T05:25:06.162054Z"
    }
   },
   "outputs": [
    {
     "name": "stdout",
     "output_type": "stream",
     "text": [
      "\n",
      "Partial training data with NO missing values\n",
      "Before augmentation steps:\n",
      "Features shape: (2140, 96, 96, 1)     Labels shape: (2140, 30)\n",
      "\n",
      "After flipping horizontally:\n",
      "Features shape: (4280, 96, 96, 1)     Labels shape: (4280, 30)\n",
      "\n",
      "After performing rotations:\n",
      "Features shape: (25680, 96, 96, 1)     Labels shape: (25680, 30)\n",
      "\n",
      "After updating lighting:\n",
      "Features shape: (34240, 96, 96, 1)     Labels shape: (34240, 30)\n",
      "\n",
      "After moving the image center:\n",
      "Features shape: (53518, 96, 96, 1)     Labels shape: (53518, 30)\n",
      "\n",
      "After adding noise:\n",
      "Features shape: (55658, 96, 96, 1)     Labels shape: (55658, 30)\n",
      "CPU times: user 10.3 s, sys: 2.36 s, total: 12.7 s\n",
      "Wall time: 13 s\n"
     ]
    }
   ],
   "source": [
    "%%time\n",
    "\n",
    "# build up training dataset using augmentation methods\n",
    "\n",
    "# for partial dataset\n",
    "\n",
    "# # control table used to apply augmentation methods; code currently assumes all are set to True\n",
    "# # ignore\n",
    "# flip = True\n",
    "# rotate = True\n",
    "# light = True\n",
    "# move = True\n",
    "# noise = True\n",
    "\n",
    "# progress through augmentations\n",
    "print(\"\\nPartial training data with NO missing values\\nBefore augmentation steps:\\nFeatures shape: {}     Labels shape: {}\".format(X_partial_converted.shape, y_partial.shape))\n",
    "\n",
    "# flip\n",
    "X_partial_flip, y_partial_flip = flip_horizontal(X_partial_converted, y_partial)\n",
    "X_partial_accum1 = np.concatenate((X_partial_converted, X_partial_flip))\n",
    "y_partial_accum1 = np.concatenate((y_partial, y_partial_flip))\n",
    "print(\"\\nAfter flipping horizontally:\\nFeatures shape: {}     Labels shape: {}\".format(X_partial_accum1.shape, y_partial_accum1.shape))\n",
    "\n",
    "# rotate\n",
    "X_partial_rotate, y_partial_rotate = perform_rotation(X_partial_converted, y_partial)\n",
    "X_partial_accum2 = np.concatenate((X_partial_accum1, X_partial_rotate))\n",
    "y_partial_accum2 = np.concatenate((y_partial_accum1, y_partial_rotate))\n",
    "print(\"\\nAfter performing rotations:\\nFeatures shape: {}     Labels shape: {}\".format(X_partial_accum2.shape, y_partial_accum2.shape))\n",
    "    \n",
    "# light\n",
    "X_partial_light, y_partial_light = update_lighting(X_partial_converted, y_partial)\n",
    "X_partial_accum3 = np.concatenate((X_partial_accum2, X_partial_light))\n",
    "y_partial_accum3 = np.concatenate((y_partial_accum2, y_partial_light))\n",
    "print(\"\\nAfter updating lighting:\\nFeatures shape: {}     Labels shape: {}\".format(X_partial_accum3.shape, y_partial_accum3.shape))\n",
    "    \n",
    "# move\n",
    "X_partial_move, y_partial_move = move_center(X_partial_converted, y_partial)\n",
    "X_partial_accum4 = np.concatenate((X_partial_accum3, X_partial_move))\n",
    "y_partial_accum4 = np.concatenate((y_partial_accum3, y_partial_move))\n",
    "print(\"\\nAfter moving the image center:\\nFeatures shape: {}     Labels shape: {}\".format(X_partial_accum4.shape, y_partial_accum4.shape))\n",
    "    \n",
    "# add noise\n",
    "X_partial_noise, y_partial_noise = add_noise(X_partial_converted, y_partial)\n",
    "X_partial_accum5 = np.concatenate((X_partial_accum4, X_partial_noise))\n",
    "y_partial_accum5 = np.concatenate((y_partial_accum4, y_partial_noise))\n",
    "print(\"\\nAfter adding noise:\\nFeatures shape: {}     Labels shape: {}\".format(X_partial_accum5.shape, y_partial_accum5.shape))\n",
    "    "
   ]
  },
  {
   "cell_type": "markdown",
   "metadata": {},
   "source": [
    "## Part 4: Training a CNN on the Augmented Data, Evaluating on Dev Set"
   ]
  },
  {
   "cell_type": "code",
   "execution_count": 36,
   "metadata": {
    "ExecuteTime": {
     "end_time": "2020-11-22T05:25:29.106715Z",
     "start_time": "2020-11-22T05:25:25.189915Z"
    }
   },
   "outputs": [
    {
     "name": "stdout",
     "output_type": "stream",
     "text": [
      "Train examples: 44526\n",
      "Train labels: 44526\n",
      "Dev examples: 11132\n",
      "Dev labels 11132\n"
     ]
    }
   ],
   "source": [
    "from sklearn.model_selection import train_test_split #Pull this into helper file\n",
    "\n",
    "X_train, X_dev, y_train, y_dev = train_test_split(X_partial_accum5, y_partial_accum5, test_size=0.2, random_state=42)\n",
    "print(f\"Train examples: {X_train.shape[0]}\")\n",
    "print(f\"Train labels: {y_train.shape[0]}\")\n",
    "print(f\"Dev examples: {X_dev.shape[0]}\")\n",
    "print(f\"Dev labels {y_dev.shape[0]}\")"
   ]
  },
  {
   "cell_type": "code",
   "execution_count": 37,
   "metadata": {
    "ExecuteTime": {
     "end_time": "2020-11-22T05:25:49.482649Z",
     "start_time": "2020-11-22T05:25:48.354190Z"
    }
   },
   "outputs": [
    {
     "name": "stdout",
     "output_type": "stream",
     "text": [
      "Model: \"sequential\"\n",
      "_________________________________________________________________\n",
      "Layer (type)                 Output Shape              Param #   \n",
      "=================================================================\n",
      "conv2d (Conv2D)              (None, 96, 96, 32)        320       \n",
      "_________________________________________________________________\n",
      "max_pooling2d (MaxPooling2D) (None, 48, 48, 32)        0         \n",
      "_________________________________________________________________\n",
      "conv2d_1 (Conv2D)            (None, 46, 46, 64)        18496     \n",
      "_________________________________________________________________\n",
      "max_pooling2d_1 (MaxPooling2 (None, 23, 23, 64)        0         \n",
      "_________________________________________________________________\n",
      "flatten (Flatten)            (None, 33856)             0         \n",
      "_________________________________________________________________\n",
      "dense (Dense)                (None, 128)               4333696   \n",
      "_________________________________________________________________\n",
      "dense_1 (Dense)              (None, 30)                3870      \n",
      "=================================================================\n",
      "Total params: 4,356,382\n",
      "Trainable params: 4,356,382\n",
      "Non-trainable params: 0\n",
      "_________________________________________________________________\n"
     ]
    }
   ],
   "source": [
    "# Setting example image dimensions\n",
    "img_rows = 96\n",
    "img_cols = 96\n",
    "\n",
    "# ===Begin Specifying Baseline CNN Architecture===\n",
    "cnn_model = Sequential()\n",
    "\n",
    "# 32 Convolution filters used\n",
    "cnn_model.add(Conv2D(32, kernel_size=(3, 3), activation='relu', padding='same', input_shape=(img_rows, img_cols, 1)))\n",
    "\n",
    "# Choose best features using max pooling layer \n",
    "cnn_model.add(MaxPooling2D(pool_size=(2, 2))) #2d can be used for 2 dimensional input. No depth here.\n",
    "\n",
    "# 64 Convolution filters used, each of size 3x3\n",
    "cnn_model.add(Conv2D(64, (3, 3), activation='relu'))\n",
    "\n",
    "# Choose best features using max pooling layer \n",
    "cnn_model.add(MaxPooling2D(pool_size=(2, 2))) #2d can be used for 2 dimensional input. No depth here.\n",
    "\n",
    "# Optional dropout layer. No need for baseline model.\n",
    "# cnn_model.add(Dropout(0.2)) #20% of the nodes are not going to activate at each layer of the network.\n",
    "\n",
    "# Flatten convolution features to pass through into the feed forward network. So 2d layer to 1d layer.\n",
    "cnn_model.add(Flatten())\n",
    "\n",
    "cnn_model.add(Dense(units=128, input_dim=128, activation='relu'))\n",
    "# 50 node network. Must be smaller than previous layer.\n",
    "# Input dimensions is 128 because \n",
    "\n",
    "# During gradient descent, you're refining 50 nod\n",
    "cnn_model.add(Dense(units=30, input_dim=50))  #10 node network\n",
    "\n",
    "# Summarize Model\n",
    "cnn_model.summary()"
   ]
  },
  {
   "cell_type": "code",
   "execution_count": null,
   "metadata": {
    "ExecuteTime": {
     "start_time": "2020-11-22T05:25:57.314Z"
    },
    "scrolled": true
   },
   "outputs": [],
   "source": [
    "# Compile and train the CNN\n",
    "cnn_model.compile(optimizer=\"adam\", loss='mean_squared_error', metrics=['mae'])\n",
    "\n",
    "cnn_model.fit(X_train, y_train, epochs = 50, batch_size = 256, validation_split = 0.2)"
   ]
  },
  {
   "cell_type": "code",
   "execution_count": null,
   "metadata": {
    "ExecuteTime": {
     "end_time": "2020-11-22T05:14:04.368919Z",
     "start_time": "2020-11-22T05:14:03.011Z"
    }
   },
   "outputs": [],
   "source": [
    "# Saving the model. This results in an error, but we might want to try to figure out how to store it.\n",
    "# import joblib\n",
    "# joblib.dump(cnn_model, \"baseline_model_save\")"
   ]
  },
  {
   "cell_type": "code",
   "execution_count": null,
   "metadata": {
    "ExecuteTime": {
     "end_time": "2020-11-22T05:14:04.369387Z",
     "start_time": "2020-11-22T05:14:03.012Z"
    }
   },
   "outputs": [],
   "source": [
    "cnn_y_dev_pred = cnn_model.predict(X_dev)\n",
    "\n",
    "from sklearn.metrics import mean_squared_error #Eventually Add to helper file\n",
    "\n",
    "print('Baseline CNN Dev RMSE: %.2f'\n",
    "      % mean_squared_error(y_dev, cnn_y_dev_pred, squared=False))"
   ]
  }
 ],
 "metadata": {
  "environment": {
   "name": "tf2-2-3-gpu.2-3.m58",
   "type": "gcloud",
   "uri": "gcr.io/deeplearning-platform-release/tf2-2-3-gpu.2-3:m58"
  },
  "kernelspec": {
   "display_name": "Python 3",
   "language": "python",
   "name": "python3"
  },
  "language_info": {
   "codemirror_mode": {
    "name": "ipython",
    "version": 3
   },
   "file_extension": ".py",
   "mimetype": "text/x-python",
   "name": "python",
   "nbconvert_exporter": "python",
   "pygments_lexer": "ipython3",
   "version": "3.8.3"
  },
  "varInspector": {
   "cols": {
    "lenName": 16,
    "lenType": 16,
    "lenVar": 40
   },
   "kernels_config": {
    "python": {
     "delete_cmd_postfix": "",
     "delete_cmd_prefix": "del ",
     "library": "var_list.py",
     "varRefreshCmd": "print(var_dic_list())"
    },
    "r": {
     "delete_cmd_postfix": ") ",
     "delete_cmd_prefix": "rm(",
     "library": "var_list.r",
     "varRefreshCmd": "cat(var_dic_list()) "
    }
   },
   "types_to_exclude": [
    "module",
    "function",
    "builtin_function_or_method",
    "instance",
    "_Feature"
   ],
   "window_display": false
  }
 },
 "nbformat": 4,
 "nbformat_minor": 4
}
